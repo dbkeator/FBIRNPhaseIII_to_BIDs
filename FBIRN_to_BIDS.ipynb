{
 "cells": [
  {
   "cell_type": "code",
   "execution_count": 37,
   "metadata": {
    "collapsed": false
   },
   "outputs": [],
   "source": [
    "import sys\n",
    "import os\n",
    "import shutil\n",
    "import re\n",
    "import ImageWrapperToJSON as iw"
   ]
  },
  {
   "cell_type": "code",
   "execution_count": 38,
   "metadata": {
    "collapsed": false
   },
   "outputs": [],
   "source": [
    "#set up list of anatomical directories for specific project\n",
    "fbirn_anatomical_dirs = ['t1','t1_deface','t2']\n",
    "fbirn_dti_dirs = ['dti']\n",
    "fbirn_asl_dirs = ['asl_calibration','asl_fairest','asl_mincon']\n",
    "#fbirn_functional_dirs = ['audodd1','audodd2','restFA10','restFA77','ot1','ot2','ot3','ot4','ot5','ot6','ot7']\n",
    "fbirn_functional_dirs = ['audodd1','audodd2','restFA10','restFA77']\n",
    "fbirn_B0_dirs = ['B0_mag1','B0_phase1']"
   ]
  },
  {
   "cell_type": "code",
   "execution_count": 39,
   "metadata": {
    "collapsed": false
   },
   "outputs": [],
   "source": [
    "#path = raw_input (\"Enter path from current working directory to project directory:\")\n",
    "root_path = '/Users/dbkeator/Documents/Coding/BIDS_examples/FBIRN_phaseIII'"
   ]
  },
  {
   "cell_type": "code",
   "execution_count": 20,
   "metadata": {
    "collapsed": false
   },
   "outputs": [
    {
     "name": "stdout",
     "output_type": "stream",
     "text": [
      "Enter subject ID to convert to BIDS (must be in current directory):000974039052\n"
     ]
    }
   ],
   "source": [
    "subjID = raw_input(\"Enter subject ID to convert to BIDS (must be in current directory):\")\n",
    "subj_dir = 'sub' + subjID"
   ]
  },
  {
   "cell_type": "code",
   "execution_count": 40,
   "metadata": {
    "collapsed": false
   },
   "outputs": [
    {
     "name": "stdout",
     "output_type": "stream",
     "text": [
      "000974039052\n",
      "sub000974039052\n"
     ]
    }
   ],
   "source": [
    "print subjID\n",
    "print subj_dir"
   ]
  },
  {
   "cell_type": "code",
   "execution_count": 45,
   "metadata": {
    "collapsed": false
   },
   "outputs": [],
   "source": [
    "#create subject directory if it doesn't exist\n",
    "if not (os.path.exists(root_path + '/' + 'sub' + subjID)):\n",
    "    os.mkdir(os.path.join(root_path,subj_dir))\n",
    "    \n"
   ]
  },
  {
   "cell_type": "code",
   "execution_count": 46,
   "metadata": {
    "collapsed": false
   },
   "outputs": [],
   "source": [
    "   \n",
    "#figure out how many visits there are\n",
    "visit_dir = os.listdir(os.path.join(root_path,subjID))\n",
    "    \n",
    "#for each visit directory\n",
    "for visit in visit_dir:\n",
    "\n",
    "    #skip visit directories that don't conform to FBIRN visit structure\n",
    "    if not (re.search(r'__', visit,flags=0)):\n",
    "        #print ('visit doesn\\'t match FBIRN directory: ' + visit)\n",
    "        continue\n",
    "    \n",
    "    #figure out how many studies there are\n",
    "    study_dir = os.listdir(os.path.join(os.path.join(root_path,subjID),visit))\n",
    "        \n",
    "    #study directories contain the imaging series if the study name is == MRI\n",
    "    for study in study_dir:\n",
    "            \n",
    "        #if this is an MRI study\n",
    "        if 'MRI' in study:\n",
    "                \n",
    "            working_path = os.path.join(os.path.join(os.path.join(os.path.join(os.path.join(root_path, subjID),visit), \\\n",
    "                study)))\n",
    "       \n",
    "            #process anatomical scans################################################################################\n",
    "\n",
    "            #check if anatomy directory exists, if not make it\n",
    "            if not (os.path.exists(os.path.join(os.path.join(root_path,subj_dir),'anatomy'))):\n",
    "                os.mkdir(os.path.join(os.path.join(root_path,subj_dir),'anatomy'))\n",
    " \n",
    "            #now copy NIFTI file from FBIRN anatomical scans to anatomy and convert ImageWrapper.xml files\n",
    "            for dirs in fbirn_anatomical_dirs:\n",
    "\n",
    "            \n",
    "                #check if dirs exist\n",
    "                if (os.path.exists(os.path.join(working_path,dirs))):\n",
    "                    \n",
    "                    srcdir = os.path.join(os.path.join(os.path.join(os.path.join(working_path,dirs), \\\n",
    "                    'Native'),'Original__0001'),'NIFTI4D')\n",
    "                   \n",
    "                    destdir = os.path.join(os.path.join(root_path,subj_dir),'anatomy')\n",
    "                    \n",
    "                    destfile = subjID + '_' + dirs + '.nii.gz'\n",
    "                    #copy NIFTI file\n",
    "                    shutil.copy(os.path.join(srcdir,'f.nii.gz'), os.path.join(destdir,destfile))\n",
    "                    \n",
    "                    #set up output filename for JSON metadata document and convert\n",
    "                    iw.ImageWrapperToJSON(os.path.join(srcdir,'ImageWrapper.xml'),os.path.join(destdir,subjID+'_'+dirs+'.json' ))\n",
    "                    \n",
    "                    \n",
    "            #process DTI scans################################################################################\n",
    "\n",
    "            #check if diffusion directory exists, if not make it\n",
    "            if not (os.path.exists(os.path.join(os.path.join(root_path,subj_dir),'diffusion'))):\n",
    "                os.mkdir(os.path.join(os.path.join(root_path,subj_dir),'diffusion'))\n",
    " \n",
    "            #now copy NIFTI file from FBIRN dti scans to diffusion and convert ImageWrapper.xml files\n",
    "            for dirs in fbirn_dti_dirs:\n",
    "\n",
    "            \n",
    "                #check if dirs exist\n",
    "                if (os.path.exists(os.path.join(working_path,dirs))):\n",
    "                    \n",
    "                    srcdir = os.path.join(os.path.join(os.path.join(os.path.join(working_path,dirs), \\\n",
    "                    'Native'),'Original__0001'),'NIFTI4D')\n",
    "                   \n",
    "                    destdir = os.path.join(os.path.join(root_path,subj_dir),'diffusion')\n",
    "                    \n",
    "                    destfile = subjID + '_' + dirs + '.nii.gz'\n",
    "                    #copy NIFTI file\n",
    "                    shutil.copy(os.path.join(srcdir,'f.nii.gz'), os.path.join(destdir,destfile))\n",
    "                    \n",
    "                    #set up output filename for JSON metadata document and convert\n",
    "                    iw.ImageWrapperToJSON(os.path.join(srcdir,'ImageWrapper.xml'),os.path.join(destdir,subjID+'_'+dirs+'.json' ))\n",
    "                            \n",
    "            #process functional scans################################################################################\n",
    "       \n",
    "            #check if diffusion directory exists, if not make it\n",
    "            if not (os.path.exists(os.path.join(os.path.join(root_path,subj_dir),'functional'))):\n",
    "                os.mkdir(os.path.join(os.path.join(root_path,subj_dir),'functional'))\n",
    "                \n",
    "            #now copy NIFTI file from FBIRN functional scans to functional and convert ImageWrapper.xml files and Cigal files\n",
    "            for dirs in fbirn_functional_dirs:\n",
    "                #check if dirs exist\n",
    "                if (os.path.exists(os.path.join(working_path,dirs))):\n",
    "                    \n",
    "                    srcdir = os.path.join(os.path.join(os.path.join(os.path.join(working_path,dirs), \\\n",
    "                    'Native'),'Original__0001'),'NIFTI4D')\n",
    "                   \n",
    "                    destdir = os.path.join(os.path.join(root_path,subj_dir),'functional')\n",
    "                    \n",
    "                    destfile = subjID + '_' + dirs + '.nii.gz'\n",
    "                    #copy NIFTI file\n",
    "                    shutil.copy(os.path.join(srcdir,'f.nii.gz'), os.path.join(destdir,destfile))\n",
    "                    \n",
    "                    #set up output filename for JSON metadata document and convert\n",
    "                    iw.ImageWrapperToJSON(os.path.join(srcdir,'ImageWrapper.xml'),os.path.join(destdir,subjID+'_'+dirs+'.json' ))\n",
    "  \n",
    "                    #ADD CIGAL STUFF\n",
    "    \n",
    "            #process fieldmap scans################################################################################\n",
    "       \n",
    "            #check if fieldmap directory exists, if not make it\n",
    "            if not (os.path.exists(os.path.join(os.path.join(os.path.join(root_path,subj_dir),'functional'),'fieldmap'))):\n",
    "                os.mkdir(os.path.join(os.path.join(os.path.join(root_path,subj_dir),'functional'),'fieldmap'))\n",
    "                \n",
    "            #now copy NIFTI file from FBIRN functional scans to functional and convert ImageWrapper.xml files and Cigal files\n",
    "            for dirs in fbirn_B0_dirs:\n",
    "                #check if dirs exist\n",
    "                if (os.path.exists(os.path.join(working_path,dirs))):\n",
    "                    \n",
    "                    srcdir = os.path.join(os.path.join(os.path.join(os.path.join(working_path,dirs), \\\n",
    "                    'Native'),'Original__0001'),'NIFTI4D')\n",
    "                   \n",
    "                    destdir = os.path.join(os.path.join(os.path.join(root_path,subj_dir),'functional'),'fieldmap')\n",
    "                    \n",
    "                    destfile = subjID + '_' + dirs + '.nii.gz'\n",
    "                    #copy NIFTI file\n",
    "                    shutil.copy(os.path.join(srcdir,'f.nii.gz'), os.path.join(destdir,destfile))\n",
    "                    \n",
    "                    #set up output filename for JSON metadata document and convert\n",
    "                    iw.ImageWrapperToJSON(os.path.join(srcdir,'ImageWrapper.xml'),os.path.join(destdir,subjID+'_'+dirs+'.json' ))\n",
    "  \n",
    "           "
   ]
  },
  {
   "cell_type": "code",
   "execution_count": null,
   "metadata": {
    "collapsed": true
   },
   "outputs": [],
   "source": []
  }
 ],
 "metadata": {
  "kernelspec": {
   "display_name": "Python 2",
   "language": "python",
   "name": "python2"
  },
  "language_info": {
   "codemirror_mode": {
    "name": "ipython",
    "version": 2
   },
   "file_extension": ".py",
   "mimetype": "text/x-python",
   "name": "python",
   "nbconvert_exporter": "python",
   "pygments_lexer": "ipython2",
   "version": "2.7.9"
  }
 },
 "nbformat": 4,
 "nbformat_minor": 0
}
