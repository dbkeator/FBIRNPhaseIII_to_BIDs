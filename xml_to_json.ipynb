{
 "cells": [
  {
   "cell_type": "code",
   "execution_count": 1,
   "metadata": {
    "collapsed": false
   },
   "outputs": [],
   "source": [
    "import xmltodict, json\n",
    "from xml.dom import minidom\n",
    "import sys\n"
   ]
  },
  {
   "cell_type": "code",
   "execution_count": 29,
   "metadata": {
    "collapsed": false
   },
   "outputs": [],
   "source": [
    "#ipython nbconvert --to=python [YOUR_NOTEBOOK].ipynb"
   ]
  },
  {
   "cell_type": "code",
   "execution_count": 16,
   "metadata": {
    "collapsed": false
   },
   "outputs": [],
   "source": [
    "xmldoc = minidom.parse('./FBIRN_phaseIII/000974039052/scanVisit__0009__0002/MRI__0001/t1_deface/Native/Original__0001/NIFTI4D/ImageWrapper.xml')\n",
    "itemlist = xmldoc.getElementsByTagName('acqParam')\n",
    "#print(len(itemlist))\n",
    "#print(itemlist[0].attributes['name'].value)\n",
    "acqparam_dict={}\n",
    "\n",
    "for s in itemlist:\n",
    "    if (s.firstChild):\n",
    "        #print(s.attributes['name'].value + \":\" + s.firstChild.nodeValue)\n",
    "        acqparam_dict[s.attributes['name'].value] = s.firstChild.nodeValue"
   ]
  },
  {
   "cell_type": "code",
   "execution_count": 17,
   "metadata": {
    "collapsed": false
   },
   "outputs": [
    {
     "name": "stdout",
     "output_type": "stream",
     "text": [
      "0\n"
     ]
    }
   ],
   "source": [
    "print len(acqparam_dict)"
   ]
  },
  {
   "cell_type": "code",
   "execution_count": 18,
   "metadata": {
    "collapsed": false
   },
   "outputs": [
    {
     "name": "stdout",
     "output_type": "stream",
     "text": [
      "False\n"
     ]
    }
   ],
   "source": [
    "print bool(acqparam_dict)"
   ]
  },
  {
   "cell_type": "code",
   "execution_count": 15,
   "metadata": {
    "collapsed": false
   },
   "outputs": [],
   "source": [
    "if bool(acqparam_dict):\n",
    "    f = open('./FBIRN_phaseIII/sub000974039052/anatomy/sub000974039052_t1_deface.json', 'w')\n",
    "    f.write(json.dumps(acqparam_dict, sort_keys=True, indent=4))\n",
    "    f.close()\n"
   ]
  },
  {
   "cell_type": "code",
   "execution_count": null,
   "metadata": {
    "collapsed": false
   },
   "outputs": [],
   "source": []
  }
 ],
 "metadata": {
  "kernelspec": {
   "display_name": "Python 2",
   "language": "python",
   "name": "python2"
  },
  "language_info": {
   "codemirror_mode": {
    "name": "ipython",
    "version": 2
   },
   "file_extension": ".py",
   "mimetype": "text/x-python",
   "name": "python",
   "nbconvert_exporter": "python",
   "pygments_lexer": "ipython2",
   "version": "2.7.9"
  }
 },
 "nbformat": 4,
 "nbformat_minor": 0
}
